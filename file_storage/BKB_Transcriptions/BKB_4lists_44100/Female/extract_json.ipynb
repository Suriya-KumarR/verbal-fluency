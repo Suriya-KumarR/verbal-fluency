{
 "cells": [
  {
   "cell_type": "markdown",
   "metadata": {},
   "source": [
    "# BKB Transcription Audio Path Converter\n",
    "\n",
    "This notebook converts absolute audio paths to relative paths in BKB transcription JSON files."
   ]
  },
  {
   "cell_type": "code",
   "execution_count": null,
   "metadata": {},
   "source": [
    "import json\n",
    "import os\n",
    "import glob\n",
    "from pathlib import Path\n",
    "import re"
   ]
  },
  {
   "cell_type": "code",
   "execution_count": null,
   "metadata": {},
   "source": [
    "# Base directory for BKB Transcriptions\n",
    "base_dir = 'BKB_Transcriptions'\n",
    "print(f\"Base directory: {base_dir}\")"
   ]
  },
  {
   "cell_type": "code",
   "execution_count": null,
   "metadata": {},
   "source": [
    "# Find all transcription JSON files\n",
    "json_files = []\n",
    "for root, dirs, files in os.walk(base_dir):\n",
    "    for file in files:\n",
    "        if file.endswith('.json'):\n",
    "            json_files.append(os.path.join(root, file))\n",
    "            \n",
    "print(f\"Found {len(json_files)} JSON files\")\n",
    "for i, file in enumerate(json_files[:5]):\n",
    "    print(f\"{i+1}. {file}\")\n",
    "if len(json_files) > 5:\n",
    "    print(f\"... and {len(json_files) - 5} more files\")"
   ]
  },
  {
   "cell_type": "code",
   "execution_count": null,
   "metadata": {},
   "source": [
    "def convert_audio_paths(json_file_path):\n",
    "    \"\"\"\n",
    "    Convert absolute audio paths to relative paths in a JSON file\n",
    "    \"\"\"\n",
    "    try:\n",
    "        # Read the JSON file\n",
    "        with open(json_file_path, 'r') as f:\n",
    "            data = json.load(f)\n",
    "        \n",
    "        modified = False\n",
    "        \n",
    "        # Check if this is a file with a single audio_path\n",
    "        if 'audio_path' in data:\n",
    "            # Extract the relative path starting with BKB_*lists_*\n",
    "            original_path = data['audio_path']\n",
    "            match = re.search(r'(BKB_\\d+lists_\\d+/.*\\.wav)', original_path)\n",
    "            if match:\n",
    "                relative_path = match.group(1)\n",
    "                data['audio_path'] = relative_path\n",
    "                modified = True\n",
    "                print(f\"  Modified path: {original_path} -> {relative_path}\")\n",
    "        \n",
    "        # Check if this is a file with AudioPathName\n",
    "        if 'AudioPathName' in data:\n",
    "            original_path = data['AudioPathName']\n",
    "            match = re.search(r'(BKB_\\d+lists_\\d+/.*\\.wav)', original_path)\n",
    "            if match:\n",
    "                relative_path = match.group(1)\n",
    "                data['AudioPathName'] = relative_path\n",
    "                modified = True\n",
    "                print(f\"  Modified path: {original_path} -> {relative_path}\")\n",
    "        \n",
    "        # Check for Items array structure\n",
    "        if 'Items' in data and isinstance(data['Items'], list):\n",
    "            for item in data['Items']:\n",
    "                if 'AudioPathName' in item:\n",
    "                    original_path = item['AudioPathName']\n",
    "                    match = re.search(r'(BKB_\\d+lists_\\d+/.*\\.wav)', original_path)\n",
    "                    if match:\n",
    "                        relative_path = match.group(1)\n",
    "                        item['AudioPathName'] = relative_path\n",
    "                        modified = True\n",
    "                        print(f\"  Modified path: {original_path} -> {relative_path}\")\n",
    "        \n",
    "        # Save the file if modifications were made\n",
    "        if modified:\n",
    "            with open(json_file_path, 'w') as f:\n",
    "                json.dump(data, f, indent=2)\n",
    "            return True\n",
    "        else:\n",
    "            return False\n",
    "            \n",
    "    except Exception as e:\n",
    "        print(f\"Error processing {json_file_path}: {str(e)}\")\n",
    "        return False"
   ]
  },
  {
   "cell_type": "code",
   "execution_count": null,
   "metadata": {},
   "source": [
    "# Process all files\n",
    "modified_files = 0\n",
    "processed_files = 0\n",
    "\n",
    "for json_file in json_files:\n",
    "    print(f\"Processing {json_file}...\")\n",
    "    if convert_audio_paths(json_file):\n",
    "        modified_files += 1\n",
    "    processed_files += 1\n",
    "\n",
    "print(f\"\\nCompleted processing {processed_files} files\")\n",
    "print(f\"Modified {modified_files} files\")"
   ]
  },
  {
   "cell_type": "markdown",
   "metadata": {},
   "source": [
    "## Verification\n",
    "\n",
    "Let's check a few of the modified files to verify the paths were updated correctly:"
   ]
  },
  {
   "cell_type": "code",
   "execution_count": null,
   "metadata": {},
   "source": [
    "# Display a few examples of modified files\n",
    "sample_count = min(5, len(json_files))\n",
    "for i, file in enumerate(json_files[:sample_count]):\n",
    "    print(f\"\\nSample {i+1}: {file}\")\n",
    "    try:\n",
    "        with open(file, 'r') as f:\n",
    "            sample_data = json.load(f)\n",
    "            \n",
    "            # Check different possible structures\n",
    "            if 'audio_path' in sample_data:\n",
    "                print(f\"  Audio Path: {sample_data['audio_path']}\")\n",
    "            \n",
    "            if 'AudioPathName' in sample_data:\n",
    "                print(f\"  Audio Path: {sample_data['AudioPathName']}\")\n",
    "            \n",
    "            if 'Items' in sample_data and len(sample_data['Items']) > 0:\n",
    "                print(f\"  First Item Audio Path: {sample_data['Items'][0].get('AudioPathName', 'Not found')}\")\n",
    "            \n",
    "    except Exception as e:\n",
    "        print(f\"  Error reading file: {str(e)}\")"
   ]
  }
 ],
 "metadata": {
  "kernelspec": {
   "display_name": "Python 3",
   "language": "python",
   "name": "python3"
  },
  "language_info": {
   "codemirror_mode": {
    "name": "ipython",
    "version": 3
   },
   "file_extension": ".py",
   "mimetype": "text/x-python",
   "name": "python",
   "nbconvert_exporter": "python",
   "pygments_lexer": "ipython3",
   "version": "3.8.10"
  }
 },
 "nbformat": 4,
 "nbformat_minor": 4
}