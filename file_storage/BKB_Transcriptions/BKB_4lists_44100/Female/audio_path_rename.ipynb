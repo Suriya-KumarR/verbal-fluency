{
 "cells": [
  {
   "cell_type": "markdown",
   "metadata": {},
   "source": [
    "# Audio Path Corrector\n",
    "\n",
    "This notebook converts absolute audio paths to relative paths in BKB transcription JSON files."
   ]
  },
  {
   "cell_type": "code",
   "execution_count": null,
   "metadata": {},
   "source": [
    "import json\n",
    "import os\n",
    "import re\n",
    "import glob"
   ]
  },
  {
   "cell_type": "code",
   "execution_count": null,
   "metadata": {},
   "source": [
    "# Base directory for BKB Transcriptions\n",
    "base_dir = 'BKB_Transcriptions'\n",
    "print(f\"Base directory: {base_dir}\")\n",
    "\n",
    "# Ensure we're in the right directory\n",
    "if not os.path.exists(base_dir):\n",
    "    base_dir = os.path.join('file_storage', 'BKB_Transcriptions')\n",
    "    print(f\"Updated base directory: {base_dir}\")\n",
    "\n",
    "if not os.path.exists(base_dir):\n",
    "    print(\"Warning: BKB_Transcriptions directory not found. Please adjust the path.\")"
   ]
  },
  {
   "cell_type": "code",
   "execution_count": null,
   "metadata": {},
   "source": [
    "# Find all JSON files\n",
    "json_files = []\n",
    "for root, dirs, files in os.walk(base_dir):\n",
    "    for file in files:\n",
    "        if file.endswith('.json'):\n",
    "            json_files.append(os.path.join(root, file))\n",
    "            \n",
    "print(f\"Found {len(json_files)} JSON files\")\n",
    "for i, file in enumerate(json_files[:5]):\n",
    "    print(f\"{i+1}. {file}\")\n",
    "if len(json_files) > 5:\n",
    "    print(f\"... and {len(json_files) - 5} more files\")"
   ]
  },
  {
   "cell_type": "code",
   "execution_count": null,
   "metadata": {},
   "source": [
    "def convert_to_relative_path(audio_path):\n",
    "    \"\"\"\n",
    "    Convert absolute audio path to relative path starting from BKB_21lists_44100 or similar\n",
    "    \"\"\"\n",
    "    # Match pattern like BKB_21lists_44100 or similar patterns\n",
    "    match = re.search(r'BKB_\\d+lists_\\d+.*?\\.wav$', audio_path)\n",
    "    if match:\n",
    "        return match.group(0)\n",
    "    \n",
    "    # If the specific pattern is not found, try a more general approach\n",
    "    parts = audio_path.split('/')\n",
    "    for i, part in enumerate(parts):\n",
    "        if part.startswith('BKB_') and 'lists_' in part:\n",
    "            return '/'.join(parts[i:])\n",
    "    \n",
    "    # If still not found, just return the filename\n",
    "    return os.path.basename(audio_path)"
   ]
  },
  {
   "cell_type": "code",
   "execution_count": null,
   "metadata": {},
   "source": [
    "def update_json_file(file_path):\n",
    "    \"\"\"\n",
    "    Update audio_path in a JSON file to use relative paths\n",
    "    \"\"\"\n",
    "    try:\n",
    "        with open(file_path, 'r') as f:\n",
    "            data = json.load(f)\n",
    "        \n",
    "        modified = False\n",
    "        \n",
    "        # Check if this is a direct file with audio_path\n",
    "        if 'audio_path' in data:\n",
    "            original_path = data['audio_path']\n",
    "            relative_path = convert_to_relative_path(original_path)\n",
    "            data['audio_path'] = relative_path\n",
    "            modified = True\n",
    "            return modified, original_path, relative_path\n",
    "        \n",
    "        # Check other formats like AudioPathName\n",
    "        if 'AudioPathName' in data:\n",
    "            original_path = data['AudioPathName']\n",
    "            relative_path = convert_to_relative_path(original_path)\n",
    "            data['AudioPathName'] = relative_path\n",
    "            modified = True\n",
    "            \n",
    "            # Write back the updated data\n",
    "            with open(file_path, 'w') as f:\n",
    "                json.dump(data, f, indent=2)\n",
    "                \n",
    "            return modified, original_path, relative_path\n",
    "        \n",
    "        # Check if it's a collection with Items\n",
    "        if 'Items' in data and isinstance(data['Items'], list):\n",
    "            for item in data['Items']:\n",
    "                if 'AudioPathName' in item:\n",
    "                    original_path = item['AudioPathName']\n",
    "                    relative_path = convert_to_relative_path(original_path)\n",
    "                    item['AudioPathName'] = relative_path\n",
    "                    modified = True\n",
    "        \n",
    "        # Check if it has a words array with audio_path\n",
    "        if 'words' in data and isinstance(data['words'], list):\n",
    "            for word in data['words']:\n",
    "                if 'audio_path' in word:\n",
    "                    original_path = word['audio_path']\n",
    "                    relative_path = convert_to_relative_path(original_path)\n",
    "                    word['audio_path'] = relative_path\n",
    "                    modified = True\n",
    "        \n",
    "        # If modified, write back the changes\n",
    "        if modified:\n",
    "            with open(file_path, 'w') as f:\n",
    "                json.dump(data, f, indent=2)\n",
    "            \n",
    "            return modified, \"Multiple paths updated\", \"to relative paths\"\n",
    "        \n",
    "        return False, \"No paths found\", \"\"\n",
    "        \n",
    "    except Exception as e:\n",
    "        print(f\"Error processing {file_path}: {str(e)}\")\n",
    "        return False, str(e), \"\""
   ]
  },
  {
   "cell_type": "code",
   "execution_count": null,
   "metadata": {},
   "source": [
    "# Process all files\n",
    "updated_files = 0\n",
    "sample_updates = []\n",
    "\n",
    "for i, file_path in enumerate(json_files):\n",
    "    modified, original, relative = update_json_file(file_path)\n",
    "    if modified:\n",
    "        updated_files += 1\n",
    "        if len(sample_updates) < 5:\n",
    "            sample_updates.append((file_path, original, relative))\n",
    "    \n",
    "    # Print progress every 100 files\n",
    "    if (i + 1) % 100 == 0 or i == len(json_files) - 1:\n",
    "        print(f\"Processed {i + 1}/{len(json_files)} files, updated {updated_files} files\")\n",
    "\n",
    "print(f\"\\nCompleted processing {len(json_files)} files\")\n",
    "print(f\"Updated audio paths in {updated_files} files\")\n",
    "\n",
    "# Show some examples of updates\n",
    "print(\"\\nSample updates:\")\n",
    "for file_path, original, relative in sample_updates:\n",
    "    print(f\"\\nFile: {file_path}\")\n",
    "    print(f\"  Original: {original}\")\n",
    "    print(f\"  Updated:  {relative}\")"
   ]
  }
 ],
 "metadata": {
  "kernelspec": {
   "display_name": "Python 3",
   "language": "python",
   "name": "python3"
  },
  "language_info": {
   "codemirror_mode": {
    "name": "ipython",
    "version": 3
   },
   "file_extension": ".py",
   "mimetype": "text/x-python",
   "name": "python",
   "nbconvert_exporter": "python",
   "pygments_lexer": "ipython3",
   "version": "3.8.10"
  }
 },
 "nbformat": 4,
 "nbformat_minor": 4
}